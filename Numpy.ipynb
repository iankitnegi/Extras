{
  "nbformat": 4,
  "nbformat_minor": 0,
  "metadata": {
    "colab": {
      "provenance": []
    },
    "kernelspec": {
      "name": "python3",
      "display_name": "Python 3"
    },
    "language_info": {
      "name": "python"
    }
  },
  "cells": [
    {
      "cell_type": "code",
      "execution_count": 1,
      "metadata": {
        "colab": {
          "base_uri": "https://localhost:8080/"
        },
        "id": "tzSYhQeuoZ3p",
        "outputId": "092cadaf-e1f1-4e71-bbba-5989cd6d2783"
      },
      "outputs": [
        {
          "output_type": "execute_result",
          "data": {
            "text/plain": [
              "array([1, 2, 3, 4])"
            ]
          },
          "metadata": {},
          "execution_count": 1
        }
      ],
      "source": [
        "import numpy as np\n",
        "\n",
        "# create array using numpy\n",
        "arr1d = np.array([1,2,3,4])\n",
        "arr1d"
      ]
    },
    {
      "cell_type": "code",
      "source": [
        "print(type(arr1d))\n",
        "print(arr1d.shape)"
      ],
      "metadata": {
        "id": "wDBXEvrwo4Aa",
        "colab": {
          "base_uri": "https://localhost:8080/"
        },
        "outputId": "a3ee7d97-ae48-4166-e4e0-0708d6b3adbc"
      },
      "execution_count": 3,
      "outputs": [
        {
          "output_type": "stream",
          "name": "stdout",
          "text": [
            "<class 'numpy.ndarray'>\n",
            "(4,)\n"
          ]
        }
      ]
    },
    {
      "cell_type": "code",
      "source": [
        "arr2d = np.array([1,2,3,4])\n",
        "arr2d.reshape(2,2)    #2 row, 2 col"
      ],
      "metadata": {
        "colab": {
          "base_uri": "https://localhost:8080/"
        },
        "id": "_lnEpFK4Fm_g",
        "outputId": "4e1177e6-226f-4fb8-eee2-97e7cbd651dd"
      },
      "execution_count": 5,
      "outputs": [
        {
          "output_type": "execute_result",
          "data": {
            "text/plain": [
              "array([[1, 2],\n",
              "       [3, 4]])"
            ]
          },
          "metadata": {},
          "execution_count": 5
        }
      ]
    },
    {
      "cell_type": "code",
      "source": [
        "arr2 = np.array([[1,2,3,4,5]])\n",
        "arr2.shape"
      ],
      "metadata": {
        "colab": {
          "base_uri": "https://localhost:8080/"
        },
        "id": "banXhhQaGaXG",
        "outputId": "bdb95938-d0b0-4a0a-cbac-bf6d3f4ec839"
      },
      "execution_count": 6,
      "outputs": [
        {
          "output_type": "execute_result",
          "data": {
            "text/plain": [
              "(1, 5)"
            ]
          },
          "metadata": {},
          "execution_count": 6
        }
      ]
    },
    {
      "cell_type": "code",
      "source": [
        "##2D Array\n",
        "arr2 = np.array([[1,2,3],[4,5,6]])\n",
        "print(arr2)\n",
        "arr2.shape"
      ],
      "metadata": {
        "colab": {
          "base_uri": "https://localhost:8080/"
        },
        "id": "m30qN0VvG9Yx",
        "outputId": "11e7a374-fc42-4534-9f49-9fbdf492a83c"
      },
      "execution_count": 8,
      "outputs": [
        {
          "output_type": "stream",
          "name": "stdout",
          "text": [
            "[[1 2 3]\n",
            " [4 5 6]]\n"
          ]
        },
        {
          "output_type": "execute_result",
          "data": {
            "text/plain": [
              "(2, 3)"
            ]
          },
          "metadata": {},
          "execution_count": 8
        }
      ]
    },
    {
      "cell_type": "code",
      "source": [
        "np.arange(1,10,2).reshape(5,1)"
      ],
      "metadata": {
        "colab": {
          "base_uri": "https://localhost:8080/"
        },
        "id": "jhBuR_VVHZ1-",
        "outputId": "71726bba-dc44-4c19-8cb6-f774d6e19b0f"
      },
      "execution_count": 10,
      "outputs": [
        {
          "output_type": "execute_result",
          "data": {
            "text/plain": [
              "array([[1],\n",
              "       [3],\n",
              "       [5],\n",
              "       [7],\n",
              "       [9]])"
            ]
          },
          "metadata": {},
          "execution_count": 10
        }
      ]
    },
    {
      "cell_type": "code",
      "source": [
        "np.ones((3,4))"
      ],
      "metadata": {
        "colab": {
          "base_uri": "https://localhost:8080/"
        },
        "id": "yiKUs4PPHnEQ",
        "outputId": "140ccf5a-b8f0-4b96-90ad-38133ec03ad7"
      },
      "execution_count": 13,
      "outputs": [
        {
          "output_type": "execute_result",
          "data": {
            "text/plain": [
              "array([[1., 1., 1., 1.],\n",
              "       [1., 1., 1., 1.],\n",
              "       [1., 1., 1., 1.]])"
            ]
          },
          "metadata": {},
          "execution_count": 13
        }
      ]
    },
    {
      "cell_type": "code",
      "source": [
        "np.eye(3)"
      ],
      "metadata": {
        "colab": {
          "base_uri": "https://localhost:8080/"
        },
        "id": "gyxMZg7wH0r3",
        "outputId": "b92f8b0a-39da-4b66-9808-e5d5ff3aa645"
      },
      "execution_count": 14,
      "outputs": [
        {
          "output_type": "execute_result",
          "data": {
            "text/plain": [
              "array([[1., 0., 0.],\n",
              "       [0., 1., 0.],\n",
              "       [0., 0., 1.]])"
            ]
          },
          "metadata": {},
          "execution_count": 14
        }
      ]
    },
    {
      "cell_type": "code",
      "source": [
        "arr = np.array([[1,2,3],[4,5,6]])\n",
        "\n",
        "print(\"Array:\\n\", arr)\n",
        "print(\"Shape:\", arr.shape)    #Output: (2,3)\n",
        "print(\"No. of dimensions:\", arr.ndim)   #Dimension: 2\n",
        "print(\"Size No. of the elements:\", arr.size) #Size: 6\n",
        "print(\"Data type:\", arr.dtype) #Data type: int64\n",
        "print(\"Item size (in bytes):\", arr.itemsize)  #Output: 8"
      ],
      "metadata": {
        "colab": {
          "base_uri": "https://localhost:8080/"
        },
        "id": "n_5t02ugIANk",
        "outputId": "75e8bf04-50bd-4e3a-d25a-d8b81f717560"
      },
      "execution_count": 23,
      "outputs": [
        {
          "output_type": "stream",
          "name": "stdout",
          "text": [
            "Array:\n",
            " [[1 2 3]\n",
            " [4 5 6]]\n",
            "Shape: (2, 3)\n",
            "No. of dimensions: 2\n",
            "Size No. of the elements: 6\n",
            "Data type: int64\n",
            "Item size (in bytes): 8\n"
          ]
        }
      ]
    },
    {
      "cell_type": "code",
      "source": [
        "##Numpy vectorized operation\n",
        "arr1 = np.array([1,2,3,4,5])\n",
        "arr2 = np.array([6,7,8,9,10])\n",
        "\n",
        "print(\"Addition:\", arr1 + arr2)\n",
        "print(\"Subtraction:\", arr1 - arr2)\n",
        "print(\"Multiplication:\", arr1 * arr2)\n",
        "print(\"Division:\", arr1 / arr2)"
      ],
      "metadata": {
        "colab": {
          "base_uri": "https://localhost:8080/"
        },
        "id": "ZdA_RupcIR4c",
        "outputId": "2f40a785-78bf-4f09-f61c-3e57dc01096d"
      },
      "execution_count": 25,
      "outputs": [
        {
          "output_type": "stream",
          "name": "stdout",
          "text": [
            "Addition: [ 7  9 11 13 15]\n",
            "Subtraction: [-5 -5 -5 -5 -5]\n",
            "Multiplication: [ 6 14 24 36 50]\n",
            "Division: [0.16666667 0.28571429 0.375      0.44444444 0.5       ]\n"
          ]
        }
      ]
    },
    {
      "cell_type": "code",
      "source": [
        "#Universal Function:\n",
        "\n",
        "arr=np.array([1,2,3,4,5,6])\n",
        "print(np.sqrt(arr))\n",
        "print(np.exp(arr))\n",
        "print(np.sin(arr))\n",
        "print(np.cos(arr))\n",
        "print(np.log(arr))"
      ],
      "metadata": {
        "colab": {
          "base_uri": "https://localhost:8080/"
        },
        "id": "4apsNT7wNFcY",
        "outputId": "4279dd89-6713-44fe-c890-64fe30540553"
      },
      "execution_count": 27,
      "outputs": [
        {
          "output_type": "stream",
          "name": "stdout",
          "text": [
            "[1.         1.41421356 1.73205081 2.         2.23606798 2.44948974]\n",
            "[  2.71828183   7.3890561   20.08553692  54.59815003 148.4131591\n",
            " 403.42879349]\n",
            "[ 0.84147098  0.90929743  0.14112001 -0.7568025  -0.95892427 -0.2794155 ]\n",
            "[ 0.54030231 -0.41614684 -0.9899925  -0.65364362  0.28366219  0.96017029]\n",
            "[0.         0.69314718 1.09861229 1.38629436 1.60943791 1.79175947]\n"
          ]
        }
      ]
    },
    {
      "cell_type": "code",
      "source": [
        "#array slicing & indexing\n",
        "\n",
        "arr=np.array([[1,2,3,4], [5,6,7,8], [9,10,11,12]])\n",
        "print(arr)"
      ],
      "metadata": {
        "colab": {
          "base_uri": "https://localhost:8080/"
        },
        "id": "YWENy1adVySN",
        "outputId": "7b3b380c-6319-4fdb-a56f-f0e107a5ac67"
      },
      "execution_count": 32,
      "outputs": [
        {
          "output_type": "stream",
          "name": "stdout",
          "text": [
            "[[ 1  2  3  4]\n",
            " [ 5  6  7  8]\n",
            " [ 9 10 11 12]]\n"
          ]
        }
      ]
    },
    {
      "cell_type": "code",
      "source": [
        "arr[0][0]"
      ],
      "metadata": {
        "colab": {
          "base_uri": "https://localhost:8080/"
        },
        "id": "CvWSbSMMWIBe",
        "outputId": "bba12bb4-a989-469a-e718-efc9c955e876"
      },
      "execution_count": 33,
      "outputs": [
        {
          "output_type": "execute_result",
          "data": {
            "text/plain": [
              "1"
            ]
          },
          "metadata": {},
          "execution_count": 33
        }
      ]
    },
    {
      "cell_type": "code",
      "source": [
        "arr[1:,2:]"
      ],
      "metadata": {
        "colab": {
          "base_uri": "https://localhost:8080/"
        },
        "id": "1WrV4np7W08T",
        "outputId": "595646a3-d741-49f1-fe8e-ea4ab16f88fd"
      },
      "execution_count": 35,
      "outputs": [
        {
          "output_type": "execute_result",
          "data": {
            "text/plain": [
              "array([[ 7,  8],\n",
              "       [11, 12]])"
            ]
          },
          "metadata": {},
          "execution_count": 35
        }
      ]
    },
    {
      "cell_type": "code",
      "source": [
        "print(arr[0:2,2:])"
      ],
      "metadata": {
        "colab": {
          "base_uri": "https://localhost:8080/"
        },
        "id": "0UNXYrYHW5NK",
        "outputId": "a5a6fb99-6ad0-4832-8420-d40b01650d02"
      },
      "execution_count": 43,
      "outputs": [
        {
          "output_type": "stream",
          "name": "stdout",
          "text": [
            "[[3 4]\n",
            " [7 8]]\n"
          ]
        }
      ]
    },
    {
      "cell_type": "code",
      "source": [
        "print(arr[1:,1:3])"
      ],
      "metadata": {
        "colab": {
          "base_uri": "https://localhost:8080/"
        },
        "id": "LBH7bqGDXOUw",
        "outputId": "48466641-8305-4dc1-c079-4f16c223b25e"
      },
      "execution_count": 45,
      "outputs": [
        {
          "output_type": "stream",
          "name": "stdout",
          "text": [
            "[[ 6  7]\n",
            " [10 11]]\n"
          ]
        }
      ]
    },
    {
      "cell_type": "code",
      "source": [
        "arr[0][0]=100\n",
        "arr"
      ],
      "metadata": {
        "colab": {
          "base_uri": "https://localhost:8080/"
        },
        "id": "R40nCDU3XxAC",
        "outputId": "091aa4fb-e5f1-432b-ba76-90e2a9324ade"
      },
      "execution_count": 46,
      "outputs": [
        {
          "output_type": "execute_result",
          "data": {
            "text/plain": [
              "array([[100,   2,   3,   4],\n",
              "       [  5,   6,   7,   8],\n",
              "       [  9,  10,  11,  12]])"
            ]
          },
          "metadata": {},
          "execution_count": 46
        }
      ]
    },
    {
      "cell_type": "code",
      "source": [
        "#Statistical Concept - Normalization\n",
        "## to have a mean of 0 & SD of 1\n",
        "\n",
        "data=np.array([1,2,3,4,5])\n",
        "mean=np.mean(data)\n",
        "std=np.std(data)\n",
        "\n",
        "normalized_data = (data-mean)/std\n",
        "print(\"Normalized Data: \", normalized_data)"
      ],
      "metadata": {
        "colab": {
          "base_uri": "https://localhost:8080/"
        },
        "id": "LPdypBLlYCS7",
        "outputId": "e5318e1b-3bca-4f51-f1a5-d234452b8a6a"
      },
      "execution_count": 49,
      "outputs": [
        {
          "output_type": "stream",
          "name": "stdout",
          "text": [
            "Normalized Data:  [-1.41421356 -0.70710678  0.          0.70710678  1.41421356]\n"
          ]
        }
      ]
    },
    {
      "cell_type": "code",
      "source": [
        "#Statistical Concept - Mean, Median, Mode, Std, Variance\n",
        "\n",
        "arr = np.array([1,2,3,4,5,6,7,8,9,10])\n",
        "print(\"Mean: \", np.mean(arr))\n",
        "print(\"Median: \", np.median(arr))\n",
        "print(\"Mode: \", np.argmax(np.bincount(arr)))\n",
        "print(\"Std: \", np.std(arr))\n",
        "print(\"Variance: \", np.var(arr))"
      ],
      "metadata": {
        "colab": {
          "base_uri": "https://localhost:8080/"
        },
        "id": "36QMr4iEaItV",
        "outputId": "ba10f03e-77eb-40f8-fa47-749152b64d92"
      },
      "execution_count": 50,
      "outputs": [
        {
          "output_type": "stream",
          "name": "stdout",
          "text": [
            "Mean:  5.5\n",
            "Median:  5.5\n",
            "Mode:  1\n",
            "Std:  2.8722813232690143\n",
            "Variance:  8.25\n"
          ]
        }
      ]
    },
    {
      "cell_type": "code",
      "source": [
        "#Logical operation:\n",
        "\n",
        "arr = np.arange(1,10)\n",
        "arr[(arr>5) & (arr<8)]"
      ],
      "metadata": {
        "colab": {
          "base_uri": "https://localhost:8080/"
        },
        "id": "nsmWaRH5blZf",
        "outputId": "d897ba0d-9bd1-4c44-c467-0adaa32df78b"
      },
      "execution_count": 60,
      "outputs": [
        {
          "output_type": "execute_result",
          "data": {
            "text/plain": [
              "array([6, 7])"
            ]
          },
          "metadata": {},
          "execution_count": 60
        }
      ]
    },
    {
      "cell_type": "code",
      "source": [
        "arr[(arr>5) | (arr<8)]"
      ],
      "metadata": {
        "colab": {
          "base_uri": "https://localhost:8080/"
        },
        "id": "3GHc50cscOmi",
        "outputId": "0370971a-503c-4513-872a-86a67d1fb39e"
      },
      "execution_count": 61,
      "outputs": [
        {
          "output_type": "execute_result",
          "data": {
            "text/plain": [
              "array([1, 2, 3, 4, 5, 6, 7, 8, 9])"
            ]
          },
          "metadata": {},
          "execution_count": 61
        }
      ]
    },
    {
      "cell_type": "code",
      "source": [],
      "metadata": {
        "id": "4_0cmX-Jcwht"
      },
      "execution_count": null,
      "outputs": []
    }
  ]
}